{
 "cells": [
  {
   "cell_type": "markdown",
   "metadata": {},
   "source": [
    "# STOP!!! READ THIS FIRST\n",
    "You should only look at these solutions once you think you have working solutions of your own.\n",
    "If you are working through Hogg 2010 then you are probably doing so **for your own benefit**. Thus, if you look at these early then you **aren't benefiting from the exercises at all**. Nobody is impressed at how correct your code is. The point is to learn by doing, not by copying."
   ]
  },
  {
   "cell_type": "markdown",
   "metadata": {},
   "source": [
    "# Section 1 - Standard Practice\n",
    "This section is all about using basic linear algebra to do model fitting. So all we need is numpy."
   ]
  },
  {
   "cell_type": "code",
   "execution_count": 1,
   "metadata": {
    "collapsed": false
   },
   "outputs": [
    {
     "name": "stderr",
     "output_type": "stream",
     "text": [
      "/home/tmcclintock/anaconda2/lib/python2.7/site-packages/matplotlib/__init__.py:913: UserWarning: text.fontsize is deprecated and replaced with font.size; please use the latter.\n",
      "  warnings.warn(self.msg_depr % (key, alt_key))\n"
     ]
    }
   ],
   "source": [
    "import numpy as np\n",
    "import matplotlib.pyplot as plt\n",
    "%matplotlib inline\n",
    "plt.rc(\"text\", usetex=True, fontsize=24) #If this gives a warning just ignore it\n",
    "plt.rc(\"errorbar\", capsize=3) #Ignore"
   ]
  },
  {
   "cell_type": "code",
   "execution_count": 2,
   "metadata": {
    "collapsed": false
   },
   "outputs": [
    {
     "name": "stdout",
     "output_type": "stream",
     "text": [
      "(16,) (16,) (16,)\n"
     ]
    }
   ],
   "source": [
    "#Problem 1\n",
    "#Get the data. We only want x, y and the error on y\n",
    "_, x_all, y_all, sigy_all, _, _ = np.genfromtxt(\"data.txt\", unpack=True, delimiter='&', skip_header=1)\n",
    "x    = x_all[4:]\n",
    "y    = y_all[4:]\n",
    "sigy = sigy_all[4:] #For now we skip the first 4 points\n",
    "print x.shape, y.shape, sigy.shape"
   ]
  },
  {
   "cell_type": "code",
   "execution_count": 3,
   "metadata": {
    "collapsed": false
   },
   "outputs": [
    {
     "name": "stdout",
     "output_type": "stream",
     "text": [
      "(16, 2) (16, 16)\n",
      "34.0477277575 2.23992083163\n",
      "[ 18.24616675   0.10778048]\n",
      "Boom\n"
     ]
    }
   ],
   "source": [
    "#Create the covariance matrix\n",
    "C = np.diag(sigy**2)\n",
    "Cinv = np.linalg.inv(C)\n",
    "#Create the \"A\" matrix\n",
    "A = np.vstack((np.ones_like(x), x)).T\n",
    "print A.shape, C.shape\n",
    "#Do the linear algebra\n",
    "#First get the covariance on the parameters and then plug it in\n",
    "cov = np.linalg.inv(np.dot(A.T, np.dot(Cinv, A)))\n",
    "b, m = np.dot(cov, np.dot(A.T, np.dot(Cinv, y)))\n",
    "print b, m\n",
    "print np.sqrt(np.diagonal(cov))\n",
    "print \"Boom\""
   ]
  },
  {
   "cell_type": "code",
   "execution_count": 4,
   "metadata": {
    "collapsed": false
   },
   "outputs": [
    {
     "data": {
      "text/plain": [
       "(0, 700)"
      ]
     },
     "execution_count": 4,
     "metadata": {},
     "output_type": "execute_result"
    },
    {
     "data": {
      "image/png": "[encoded data removed]",
      "text/plain": [
       "<matplotlib.figure.Figure at 0x7fc9c08f7f10>"
      ]
     },
     "metadata": {},
     "output_type": "display_data"
    }
   ],
   "source": [
    "#Plot our results\n",
    "domain = np.linspace(0, 300, 100)\n",
    "model = b*domain + m\n",
    "plt.errorbar(x, y, sigy, marker='o', ls='', c='k')\n",
    "plt.plot(domain, model, ls='-', c='k')\n",
    "plt.xlabel(r\"$x$\")\n",
    "plt.ylabel(r\"$y$\")\n",
    "plt.xlim(0, 300)\n",
    "plt.ylim(0, 700)"
   ]
  },
  {
   "cell_type": "code",
   "execution_count": 5,
   "metadata": {
    "collapsed": false
   },
   "outputs": [
    {
     "name": "stdout",
     "output_type": "stream",
     "text": [
      "(20,) (20,) (20,)\n"
     ]
    }
   ],
   "source": [
    "#Problem 2\n",
    "x    = x_all\n",
    "y    = y_all\n",
    "sigy = sigy_all\n",
    "print x.shape, y.shape, sigy.shape"
   ]
  },
  {
   "cell_type": "code",
   "execution_count": 6,
   "metadata": {
    "collapsed": false
   },
   "outputs": [
    {
     "name": "stdout",
     "output_type": "stream",
     "text": [
      "(20, 2) (20, 20)\n",
      "213.273491976 1.07674752417\n",
      "[ 14.39403311   0.07740678]\n",
      "Boom 2\n"
     ]
    }
   ],
   "source": [
    "#Create the covariance matrix\n",
    "C = np.diag(sigy**2)\n",
    "Cinv = np.linalg.inv(C)\n",
    "#Create the \"A\" matrix\n",
    "A = np.vstack((np.ones_like(x), x)).T\n",
    "print A.shape, C.shape\n",
    "#Do the linear algebra\n",
    "#First get the covariance on the parameters and then plug it in\n",
    "cov = np.linalg.inv(np.dot(A.T, np.dot(Cinv, A)))\n",
    "b, m = np.dot(cov, np.dot(A.T, np.dot(Cinv, y)))\n",
    "print b, m\n",
    "print np.sqrt(np.diagonal(cov))\n",
    "print \"Boom 2\""
   ]
  },
  {
   "cell_type": "code",
   "execution_count": 7,
   "metadata": {
    "collapsed": false
   },
   "outputs": [
    {
     "data": {
      "text/plain": [
       "(0, 700)"
      ]
     },
     "execution_count": 7,
     "metadata": {},
     "output_type": "execute_result"
    },
    {
     "data": {
      "image/png": "[encoded data removed]",
      "text/plain": [
       "<matplotlib.figure.Figure at 0x7fc98abe3ed0>"
      ]
     },
     "metadata": {},
     "output_type": "display_data"
    }
   ],
   "source": [
    "#Plot our results\n",
    "domain = np.linspace(0, 300, 100)\n",
    "model = b*domain + m\n",
    "plt.errorbar(x, y, sigy, marker='o', ls='', c='k')\n",
    "plt.plot(domain, model, ls='-', c='k')\n",
    "plt.xlabel(r\"$x$\")\n",
    "plt.ylabel(r\"$y$\")\n",
    "plt.xlim(0, 300)\n",
    "plt.ylim(0, 700)"
   ]
  },
  {
   "cell_type": "code",
   "execution_count": 8,
   "metadata": {
    "collapsed": false
   },
   "outputs": [
    {
     "name": "stdout",
     "output_type": "stream",
     "text": [
      "(16,) (16,) (16,)\n"
     ]
    }
   ],
   "source": [
    "#Problem 3\n",
    "x    = x_all[4:]\n",
    "y    = y_all[4:]\n",
    "sigy = sigy_all[4:] #Skip the first 4 points\n",
    "print x.shape, y.shape, sigy.shape"
   ]
  },
  {
   "cell_type": "code",
   "execution_count": 9,
   "metadata": {
    "collapsed": false
   },
   "outputs": [
    {
     "name": "stdout",
     "output_type": "stream",
     "text": [
      "(16, 3) (16, 16)\n",
      "72.8946264717 1.59605045227 0.00229888840812\n",
      "[  3.89115552e+01   5.79747913e-01   2.03385871e-03]\n",
      "Boom 3\n"
     ]
    }
   ],
   "source": [
    "#Create the covariance matrix\n",
    "C = np.diag(sigy**2)\n",
    "Cinv = np.linalg.inv(C)\n",
    "#Create the \"A\" matrix\n",
    "A = np.vstack((np.ones_like(x), x, x**2)).T\n",
    "print A.shape, C.shape\n",
    "#Do the linear algebra\n",
    "#First get the covariance on the parameters and then plug it in\n",
    "cov = np.linalg.inv(np.dot(A.T, np.dot(Cinv, A)))\n",
    "b, m, q = np.dot(cov, np.dot(A.T, np.dot(Cinv, y)))\n",
    "print b, m, q\n",
    "print np.sqrt(np.diagonal(cov))\n",
    "print \"Boom 3\""
   ]
  },
  {
   "cell_type": "code",
   "execution_count": null,
   "metadata": {
    "collapsed": true
   },
   "outputs": [],
   "source": []
  }
 ],
 "metadata": {
  "kernelspec": {
   "display_name": "Python 2",
   "language": "python",
   "name": "python2"
  },
  "language_info": {
   "codemirror_mode": {
    "name": "ipython",
    "version": 2
   },
   "file_extension": ".py",
   "mimetype": "text/x-python",
   "name": "python",
   "nbconvert_exporter": "python",
   "pygments_lexer": "ipython2",
   "version": "2.7.12"
  }
 },
 "nbformat": 4,
 "nbformat_minor": 0
}
