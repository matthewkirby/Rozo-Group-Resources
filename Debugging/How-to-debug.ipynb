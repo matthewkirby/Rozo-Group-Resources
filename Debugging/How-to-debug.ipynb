{
 "cells": [
  {
   "cell_type": "markdown",
   "metadata": {},
   "source": [
    "# Debugging 101\n",
    "Ok, so you have some code running. It didn't produce what you thought it would produce. How do you figure out what the issue is? Answer: read the debugger. Let's look at some examples."
   ]
  },
  {
   "cell_type": "code",
   "execution_count": 1,
   "metadata": {
    "collapsed": false
   },
   "outputs": [
    {
     "ename": "SyntaxError",
     "evalue": "invalid syntax (<ipython-input-1-93ce51e777fc>, line 1)",
     "output_type": "error",
     "traceback": [
      "\u001b[1;36m  File \u001b[1;32m\"<ipython-input-1-93ce51e777fc>\"\u001b[1;36m, line \u001b[1;32m1\u001b[0m\n\u001b[1;33m    improt numpy as np\u001b[0m\n\u001b[1;37m               ^\u001b[0m\n\u001b[1;31mSyntaxError\u001b[0m\u001b[1;31m:\u001b[0m invalid syntax\n"
     ]
    }
   ],
   "source": [
    "improt numpy as np"
   ]
  },
  {
   "cell_type": "markdown",
   "metadata": {},
   "source": [
    "Notice in the cell above that I inserted a very basic error, I misspelled the word \"import\" and then tried to import the numpy library. The Python interpreter told me the kind of error that I have: SyntaxError, and then showed me where it appears. Notice how it is actually slightly confused, it pointed to the word \"numpy\" instead of the word \"improt\". This is a subtle point. It doesn't recognize that the word \"import\" is spelled wrong, it thinks that \"improt\" is a real thing, and then it fails when it tries to execute the commant \"improt numpy\".\n",
    "\n",
    "The take away from this: **your error is either at or before where the debugger says it is**.\n",
    "\n",
    "Let's look at another example."
   ]
  },
  {
   "cell_type": "code",
   "execution_count": 2,
   "metadata": {
    "collapsed": false
   },
   "outputs": [
    {
     "ename": "NameError",
     "evalue": "name 'x' is not defined",
     "output_type": "error",
     "traceback": [
      "\u001b[1;31m---------------------------------------------------------------------------\u001b[0m",
      "\u001b[1;31mNameError\u001b[0m                                 Traceback (most recent call last)",
      "\u001b[1;32m<ipython-input-2-e13d5a80c7af>\u001b[0m in \u001b[0;36m<module>\u001b[1;34m()\u001b[0m\n\u001b[1;32m----> 1\u001b[1;33m \u001b[0my\u001b[0m \u001b[1;33m=\u001b[0m \u001b[1;36m2\u001b[0m\u001b[1;33m*\u001b[0m\u001b[0mx\u001b[0m \u001b[1;33m+\u001b[0m \u001b[1;36m1\u001b[0m\u001b[1;33m\u001b[0m\u001b[0m\n\u001b[0m",
      "\u001b[1;31mNameError\u001b[0m: name 'x' is not defined"
     ]
    }
   ],
   "source": [
    "y = 2*x + 1"
   ]
  },
  {
   "cell_type": "markdown",
   "metadata": {},
   "source": [
    "Here I have created a different error that is very basic. I created a \"NameError\", where I tried to reference the variable 'x' before it was defined. That is obvious, but isn't the thing I am trying to highlight here. Notice how the debugger actually *looks* different for this error. There is the red dashed line, it says \"Traceback (most recent call last)\" at the top, and it has an arrow at the start of the line. This is because this type of error is a **Runtime Error**, while the first example I showed was a **Compiletime Error**. What are the differences between these two?\n",
    "\n",
    "**Runtime Error**:\n",
    "* Occur **as** your program is running\n",
    "* Return some kind of **stack trace** (the traceback), where you might have to follow a list of lines from possibly different files to see where the error originated\n",
    "\n",
    "**Compiletime Errors**:\n",
    "* Occur **before** your program runs\n",
    "* Are thrown when your program is **compiling**, or being turned into machine-code\n",
    "\n",
    "The former are generally more annoying, because they can occur sometimes only after your code has run for a very long time, and so you would have to re-run everything one you think you have fixed the error. As such, we will focus on runtime errors a bit more.\n",
    "\n",
    "Let's look at what a stacktrace might look like."
   ]
  },
  {
   "cell_type": "code",
   "execution_count": 3,
   "metadata": {
    "collapsed": false
   },
   "outputs": [
    {
     "ename": "TypeError",
     "evalue": "cannot concatenate 'str' and 'int' objects",
     "output_type": "error",
     "traceback": [
      "\u001b[1;31m---------------------------------------------------------------------------\u001b[0m",
      "\u001b[1;31mTypeError\u001b[0m                                 Traceback (most recent call last)",
      "\u001b[1;32m<ipython-input-3-1c0afe2cdf1d>\u001b[0m in \u001b[0;36m<module>\u001b[1;34m()\u001b[0m\n\u001b[0;32m      5\u001b[0m \u001b[1;33m\u001b[0m\u001b[0m\n\u001b[0;32m      6\u001b[0m \u001b[0msomestring\u001b[0m \u001b[1;33m=\u001b[0m \u001b[1;34m\"lol\"\u001b[0m\u001b[1;33m\u001b[0m\u001b[0m\n\u001b[1;32m----> 7\u001b[1;33m \u001b[0mmyfunc\u001b[0m\u001b[1;33m(\u001b[0m\u001b[0msomestring\u001b[0m\u001b[1;33m)\u001b[0m\u001b[1;33m\u001b[0m\u001b[0m\n\u001b[0m",
      "\u001b[1;32m<ipython-input-3-1c0afe2cdf1d>\u001b[0m in \u001b[0;36mmyfunc\u001b[1;34m(mystring)\u001b[0m\n\u001b[0;32m      1\u001b[0m \u001b[1;32mdef\u001b[0m \u001b[0mmyfunc\u001b[0m\u001b[1;33m(\u001b[0m\u001b[0mmystring\u001b[0m\u001b[1;33m)\u001b[0m\u001b[1;33m:\u001b[0m\u001b[1;33m\u001b[0m\u001b[0m\n\u001b[1;32m----> 2\u001b[1;33m     \u001b[0mmystring\u001b[0m \u001b[1;33m+=\u001b[0m \u001b[1;36m5\u001b[0m\u001b[1;33m\u001b[0m\u001b[0m\n\u001b[0m\u001b[0;32m      3\u001b[0m     \u001b[1;32mprint\u001b[0m \u001b[0mmystring\u001b[0m\u001b[1;33m\u001b[0m\u001b[0m\n\u001b[0;32m      4\u001b[0m     \u001b[1;32mreturn\u001b[0m\u001b[1;33m\u001b[0m\u001b[0m\n\u001b[0;32m      5\u001b[0m \u001b[1;33m\u001b[0m\u001b[0m\n",
      "\u001b[1;31mTypeError\u001b[0m: cannot concatenate 'str' and 'int' objects"
     ]
    }
   ],
   "source": [
    "def myfunc(mystring):\n",
    "    mystring += 5\n",
    "    print mystring\n",
    "    return \n",
    "\n",
    "somestring = \"lol\"\n",
    "myfunc(somestring)"
   ]
  },
  {
   "cell_type": "markdown",
   "metadata": {},
   "source": [
    "Here I have generated a two step stacktrace. This cell is doing the following:\n",
    "1. I define a function called \"myfunc\" that takes an argument.\n",
    "    * in that functon I add 5 to the argument\n",
    "    * the argument then gets printed\n",
    "2. I define a variable called \"somestring\" and give it the value \"lol\"\n",
    "3. I call \"myfunc\" and pass it \"somestring\"\n",
    "\n",
    "This all threw an error because inside myfunc I try to add the value 5 to something that ends up being a string. Python doesn't know a-priori how to combine a number and a string, so it throws a type error. Since this happened inside a function, we get the stack trace that shows us:\n",
    "1. The error originated when I called \"myfunc(somestring)\"\n",
    "2. The error occurred inside myfunc whnt it got to the line \"mystring += 5\"\n",
    "\n",
    "Thus, the take away is: **read the stacktrace from top to bottom to see how the error propogated in your program**."
   ]
  },
  {
   "cell_type": "markdown",
   "metadata": {},
   "source": [
    "## Going forward\n",
    "This really encompasses the important points of debugging a python code. There are hundreds of different errors, warnings, and exceptions that you will run into, so it isn't feasible to go through all of them as examples. You will definitely be able to track them down if you remember these principles and learn to read the debugger though. When in doubt, try either Googling the error message exactly (i.e. \"TypeError: cannot concatenate 'str' and 'int' objects\") or asking someone that you think knows the answer!"
   ]
  },
  {
   "cell_type": "code",
   "execution_count": null,
   "metadata": {
    "collapsed": true
   },
   "outputs": [],
   "source": []
  }
 ],
 "metadata": {
  "kernelspec": {
   "display_name": "Python 2",
   "language": "python",
   "name": "python2"
  },
  "language_info": {
   "codemirror_mode": {
    "name": "ipython",
    "version": 2
   },
   "file_extension": ".py",
   "mimetype": "text/x-python",
   "name": "python",
   "nbconvert_exporter": "python",
   "pygments_lexer": "ipython2",
   "version": "2.7.12"
  }
 },
 "nbformat": 4,
 "nbformat_minor": 0
}
