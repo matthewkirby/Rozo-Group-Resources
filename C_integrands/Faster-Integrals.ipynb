{
 "cells": [
  {
   "cell_type": "markdown",
   "metadata": {},
   "source": [
    "# Integrating in Python\n",
    "Ok, so you need to do an integral. You are using Python, so you decide to use quad() from scipy.integrate. The thing is, your integral ends up taking forever. How can we speed this up? Well, the answer is to write your function in C and call it from in Python. Let's see how."
   ]
  },
  {
   "cell_type": "code",
   "execution_count": 1,
   "metadata": {
    "collapsed": true
   },
   "outputs": [],
   "source": [
    "#Import everything we need\n",
    "import numpy as np\n",
    "import time\n",
    "from scipy.integrate import quad"
   ]
  },
  {
   "cell_type": "markdown",
   "metadata": {},
   "source": [
    "Our integrand is $\\cos(x)/x^3$ evaluated from $\\pi$ to $2\\pi$. Yes, I know, this can be done analytically. This is just for demonstrative purposes. Pretend it was more complicated. The answer to this integral is approximately -0.0152115."
   ]
  },
  {
   "cell_type": "code",
   "execution_count": 2,
   "metadata": {
    "collapsed": true
   },
   "outputs": [],
   "source": [
    "def integrand(x):\n",
    "    return np.cos(x)/x**3"
   ]
  },
  {
   "cell_type": "markdown",
   "metadata": {},
   "source": [
    "We now have our integrand in Python-function form. Let's time how long it takes to do this integral one hundred thousand times."
   ]
  },
  {
   "cell_type": "code",
   "execution_count": 3,
   "metadata": {
    "collapsed": false
   },
   "outputs": [
    {
     "name": "stdout",
     "output_type": "stream",
     "text": [
      "Got answer:  (-0.015211452880075338, 2.903565890448967e-16)\n",
      "Time with Python integrand:  3.53338909149\n"
     ]
    }
   ],
   "source": [
    "start = time.time()\n",
    "for i in range(100000):\n",
    "    answer = quad(integrand, np.pi, 2*np.pi)\n",
    "end = time.time()\n",
    "print \"Got answer: \", answer\n",
    "print \"Time with Python integrand: \", end - start"
   ]
  },
  {
   "cell_type": "markdown",
   "metadata": {},
   "source": [
    "I also have the integrand written in C in the file integrand.c. The text of the file is:\n",
    "\n",
    "#include<math.h>\n",
    "\n",
    "double integrand(int i, double x){\n",
    "  return cos(x)/(x*x*x);\n",
    "}  \n",
    "\n",
    "To compile the file, we can use the makefile by simply calling $make. Inside the makefile we have the following:\n",
    "\n",
    "integrand:\n",
    "\tgcc -shared -o integrand.so -fPIC integrand.c\n",
    "    \n",
    "The two flags that must be turned on to make a *shared object (.so)* file are -shared and -fPIC. Now we can get this .so object and its functions into our Python program."
   ]
  },
  {
   "cell_type": "code",
   "execution_count": 4,
   "metadata": {
    "collapsed": true
   },
   "outputs": [],
   "source": [
    "import ctypes\n",
    "lib = ctypes.cdll.LoadLibrary(\"integrand.so\")\n",
    "c_integrand = lib.integrand\n",
    "c_integrand.argtypes = (ctypes.c_int, ctypes.c_double)\n",
    "c_integrand.restype  = ctypes.c_double"
   ]
  },
  {
   "cell_type": "code",
   "execution_count": 5,
   "metadata": {
    "collapsed": false
   },
   "outputs": [
    {
     "name": "stdout",
     "output_type": "stream",
     "text": [
      "Got answer:  (-0.015211452880075338, 2.903565890448967e-16)\n",
      "Time with ctypes integrand:  1.45353293419\n"
     ]
    }
   ],
   "source": [
    "start = time.time()\n",
    "for i in range(100000):\n",
    "    answer = quad(c_integrand, np.pi, 2*np.pi)\n",
    "end = time.time()\n",
    "print \"Got answer: \", answer\n",
    "print \"Time with ctypes integrand: \", end - start"
   ]
  },
  {
   "cell_type": "markdown",
   "metadata": {},
   "source": [
    "**NOTE**: an integrand being used for quad needs the signature as we have written it: an integer followed by a double, with a double as the return type. This is for compatability with nquad(), which I'll get to in another notebook."
   ]
  },
  {
   "cell_type": "code",
   "execution_count": null,
   "metadata": {
    "collapsed": true
   },
   "outputs": [],
   "source": []
  }
 ],
 "metadata": {
  "kernelspec": {
   "display_name": "Python 2",
   "language": "python",
   "name": "python2"
  },
  "language_info": {
   "codemirror_mode": {
    "name": "ipython",
    "version": 2
   },
   "file_extension": ".py",
   "mimetype": "text/x-python",
   "name": "python",
   "nbconvert_exporter": "python",
   "pygments_lexer": "ipython2",
   "version": "2.7.12"
  }
 },
 "nbformat": 4,
 "nbformat_minor": 0
}
