{
 "cells": [
  {
   "cell_type": "markdown",
   "metadata": {},
   "source": [
    "# Part 1 - bad figures\n",
    "Figures help convey information about your project or some aspect of an analysis. Bad figures can be ugly at best or misleading at worst. What falls under the umbrella of \"bad\" is actually pretty easy to remedy, assuming that the information you are plotting is correct. In fact, having good asthetics can actually help you figure out if your information is good in the first place. Many figures can indicate if you have either a bug in your code or a mistake in yoru analysis.\n",
    "\n",
    "This notebook is meant to help you make good figures to share at group meetings. The specifics will only apply to matplotlib, the plotting package in Python, but the general asthetic advice will be true for any language.\n",
    "\n",
    "One quick note - this advice is all with respect to figures in slides. Some details (e.g. best font size, color choices, layout) may change if you are making slides for a journal article or for a poster, but only slightly."
   ]
  },
  {
   "cell_type": "markdown",
   "metadata": {},
   "source": [
    "Let's start by getting ready to plot things."
   ]
  },
  {
   "cell_type": "code",
   "execution_count": null,
   "metadata": {
    "collapsed": true
   },
   "outputs": [],
   "source": [
    "#This lets plots appear in the notebook.\n",
    "%matplotlib inline \n",
    "\n",
    "#Import libraries, using shorthand for their names\n",
    "import numpy as np\n",
    "import matplotlib.pyplot as plt"
   ]
  },
  {
   "cell_type": "code",
   "execution_count": null,
   "metadata": {
    "collapsed": false
   },
   "outputs": [],
   "source": [
    "#Make some fake data with 20 points randomly spaced along the x-axis in the interval 0 to 10\n",
    "N = 20\n",
    "x = np.sort(np.random.uniform(0, 10, N))\n",
    "#Let's have y have a linear depenence on x, with a slope of 2.5 and an intercept of -1\n",
    "m = 2.5\n",
    "b = -1.0\n",
    "y = m * x + b"
   ]
  },
  {
   "cell_type": "code",
   "execution_count": null,
   "metadata": {
    "collapsed": false
   },
   "outputs": [],
   "source": [
    "#Plot this data\n",
    "plt.plot(x, y)"
   ]
  },
  {
   "cell_type": "markdown",
   "metadata": {},
   "source": [
    "## 1.1 our first crappy plot\n",
    "The above plot is crappy. Why? Big reasons:\n",
    "* the axes aren't labeled\n",
    "* the number of data points is of the same order as the domain, which means we shold be looking at the **points** rather than a **line**\n",
    "\n",
    "Let's start by fixing these things."
   ]
  },
  {
   "cell_type": "code",
   "execution_count": null,
   "metadata": {
    "collapsed": false
   },
   "outputs": [],
   "source": [
    "#Plot this data again\n",
    "plt.plot(x, y, linestyle = '', marker='o')\n",
    "plt.xlabel(\"x\")\n",
    "plt.ylabel(\"y\")"
   ]
  },
  {
   "cell_type": "markdown",
   "metadata": {},
   "source": [
    "## 1.2 better, but still crappy\n",
    "Our plot is still kind of crappy looking. This is becauase:\n",
    "* the axis labels are small\n",
    "* the tick labels are small\n",
    "\n",
    "Let's now fix these aspects. Through trial and error, I have found that axis labels look good on a projector with a fontsize of ~24 and tick labels look readable with a fontsize of ~16. All of these things can be adjusted through the pyplot environment as shown here. There are other ways to do this, such as through the figure object or the axes object. If you have to use that route, just Google how to do so."
   ]
  },
  {
   "cell_type": "code",
   "execution_count": null,
   "metadata": {
    "collapsed": false
   },
   "outputs": [],
   "source": [
    "#Plot this data again\n",
    "plt.plot(x, y, linestyle = '', marker='o')\n",
    "plt.xlabel(\"x\", fontsize=24)\n",
    "plt.ylabel(\"y\", fontsize=24)\n",
    "plt.xticks(fontsize=16)\n",
    "plt.yticks(fontsize=16)"
   ]
  },
  {
   "cell_type": "markdown",
   "metadata": {},
   "source": [
    "# Part 2 - units and fonts\n",
    "Most plots we make have units on them, so we should display those units in the labels. Let's make a new set of data that I'll make up on the spot."
   ]
  },
  {
   "cell_type": "code",
   "execution_count": null,
   "metadata": {
    "collapsed": false
   },
   "outputs": [],
   "source": [
    "#Let's pretend we measured the position of an object in freefall that started from rest at y=0 as a function of time. \n",
    "#We'll use MKS units because reasons.\n",
    "g = 9.81 #m/s^2\n",
    "time = np.arange(0, 2, 0.1) #Measured for 2 seconds every 0.1 seconds\n",
    "height = -g*time**2"
   ]
  },
  {
   "cell_type": "code",
   "execution_count": null,
   "metadata": {
    "collapsed": false
   },
   "outputs": [],
   "source": [
    "#Plot the freefall data\n",
    "plt.plot(time, height)#, ls='-', marker='')\n",
    "plt.xlabel(\"time seconds\", fontsize=24)\n",
    "plt.ylabel(\"heigh meters\", fontsize=24)\n",
    "plt.xticks(fontsize=16)\n",
    "plt.yticks(fontsize=16)"
   ]
  },
  {
   "cell_type": "markdown",
   "metadata": {},
   "source": [
    "## 2.1 display units well, use fonts that aren't lame\n",
    "When displaying the x-axis, variables are in *italics* and units are not. In addition, units should always be abbreviated to their shorthand (e.g. s instead of seconds) and should be put in blocks []. So a good axis label can be specified with\n",
    "```python\n",
    "plt.xlabel(r\"$t\\ [{\\rm s}]$\"\n",
    "#{\\rm } means everything inside will un-italicize things in math mode\n",
    "# a slash with a space after \"\\ \" will force a space to appear in math mode\n",
    "```\n",
    "\n",
    "The default matplotlib font sucks for displaying text and tick labels. Many people (me) find the LaTeX font more asthetically pleasing. You can force matplotlib to rending in tex by giving the text as a \"raw\" string:\n",
    "\n",
    "```python\n",
    "r\"raw string\"\n",
    "\"not a raw strong\"\n",
    "```\n",
    "\n",
    "and by putting things into latex math mode with the $ sign:\n",
    "\n",
    "```python\n",
    "r\"$y=mx+b$\"\n",
    "\"y=mx+b\"\n",
    "```\n",
    "The former will look like $y=mx+b$ while the latter will look like y=mx+b."
   ]
  },
  {
   "cell_type": "code",
   "execution_count": null,
   "metadata": {
    "collapsed": false
   },
   "outputs": [],
   "source": [
    "#Plot the freefall data\n",
    "plt.plot(time, height)#, ls='-', marker='')\n",
    "plt.xlabel(r\"$t\\ [{\\rm s}]$\", fontsize=24)\n",
    "plt.ylabel(r\"$H\\ [{\\rm m}]$\", fontsize=24)\n",
    "plt.xticks(fontsize=16)\n",
    "plt.yticks(fontsize=16)"
   ]
  },
  {
   "cell_type": "markdown",
   "metadata": {},
   "source": [
    "## 2.2 automatically using LaTeX\n",
    "To get matplotlib to render everything with LaTeX is very easy. This will include the axis labels, tick labels, titles, legends, floating text, and anything else. You just throw in the line:\n",
    "```python\n",
    "plt.rc(\"text\", usetex=True)\n",
    "```\n",
    "This alters the \"rc\" parameters being used by matplotlib at that moment. This is basically magic, and don't bother learning about anymore than you have to right now, but you should know that \"rc\" is how you customize matplotlib in general."
   ]
  },
  {
   "cell_type": "code",
   "execution_count": null,
   "metadata": {
    "collapsed": false
   },
   "outputs": [],
   "source": [
    "#Plot the freefall data\n",
    "plt.rc(\"text\", usetex=True)\n",
    "plt.plot(time, height)#, ls='-', marker='')\n",
    "plt.xlabel(r\"$t\\ [{\\rm s}]$\", fontsize=24)\n",
    "plt.ylabel(r\"$H\\ [{\\rm m}]$\", fontsize=24)\n",
    "plt.xticks(fontsize=16)\n",
    "plt.yticks(fontsize=16)"
   ]
  },
  {
   "cell_type": "markdown",
   "metadata": {},
   "source": [
    "# Part 3 empty space\n",
    "Empty space can be a huge annoyance. Consider the following two versions of plotting our first set of data."
   ]
  },
  {
   "cell_type": "code",
   "execution_count": null,
   "metadata": {
    "collapsed": false
   },
   "outputs": [],
   "source": [
    "plt.plot(x, y)"
   ]
  },
  {
   "cell_type": "code",
   "execution_count": null,
   "metadata": {
    "collapsed": false
   },
   "outputs": [],
   "source": [
    "plt.plot(x, y)\n",
    "plt.xlim(0, 20)"
   ]
  },
  {
   "cell_type": "markdown",
   "metadata": {},
   "source": [
    "In the second example I changed the limits of the x-axis on purpose to make it look bad by adding a bunch of blank space on the right side. Matplotlib is pretty good at stopping this from happening, but sometimes it failes miserably. If it does, manipulate the domain and range using these functions:\n",
    "```python\n",
    "plt.xlim()\n",
    "plt.ylim()\n",
    "```"
   ]
  },
  {
   "cell_type": "markdown",
   "metadata": {},
   "source": [
    "# Part 4 scaling\n",
    "Sometimes data shouldn't be plotted with linear axes, but should have logarithmic axes instead. Let's look a basic plot of the amount of carbon 14 in some sample, which has a half-life of ~6000 years, over the course of a long time period. The number of atoms in that sample is given by the equation\n",
    "\n",
    "$^{14}C(t) = \\frac{^{14}C(t=0)}{2^{t/6000}}$"
   ]
  },
  {
   "cell_type": "code",
   "execution_count": null,
   "metadata": {
    "collapsed": false
   },
   "outputs": [],
   "source": [
    "#Let's pretend we have 600,000 years worth of measurements of how much C14 exists, with measurements every 10000 years.\n",
    "time = np.arange(6e5, 0, -10000)\n",
    "#Now let's pretend we started with ~1 mole of C14 atoms\n",
    "C_init = 6e23 #6 with 23 zeros\n",
    "C = C_init / 2**(time/6000)"
   ]
  },
  {
   "cell_type": "code",
   "execution_count": null,
   "metadata": {
    "collapsed": false
   },
   "outputs": [],
   "source": [
    "#Plot the carbon data, using the good-formatting practices we learned so far\n",
    "plt.rc(\"text\", usetex=True)\n",
    "plt.plot(time, C)#, ls='-', marker='')\n",
    "plt.xlabel(r\"$t\\ [{\\rm yr}]$\", fontsize=24)\n",
    "plt.ylabel(r\"$N_{^{14}C}(t)\\ [{\\rm Number}]$\", fontsize=24)\n",
    "plt.xticks(fontsize=16)\n",
    "plt.yticks(fontsize=16)"
   ]
  },
  {
   "cell_type": "markdown",
   "metadata": {},
   "source": [
    "# 3.1 log scaling, bro\n",
    "Wow, this plot suffers from seriously bad empty space. Notice how the Y-axis scales linearly with number, but we know it drops off exponentially. Here, the plot would be better suited to having a log-spaced y-axis."
   ]
  },
  {
   "cell_type": "code",
   "execution_count": null,
   "metadata": {
    "collapsed": false
   },
   "outputs": [],
   "source": [
    "#Plot the carbon data\n",
    "plt.rc(\"text\", usetex=True)\n",
    "plt.plot(time, C)#, ls='-', marker='')\n",
    "plt.xlabel(r\"$t\\ [{\\rm yr}]$\", fontsize=24)\n",
    "plt.ylabel(r\"$N_{^{14}C}(t)\\ [{\\rm Number}]$\", fontsize=24)\n",
    "plt.xticks(fontsize=16)\n",
    "plt.yticks(fontsize=16)\n",
    "plt.yscale(\"log\")\n",
    "#plt.yscale(\"linear\") was used by default"
   ]
  },
  {
   "cell_type": "markdown",
   "metadata": {},
   "source": [
    "This is much more useful, and can even be used to directly measure the half-life that we put in. If you want both axes to be log-scaled, you can simply use the ```python plt.loglog()``` function, or change x-axis as well with the ```python plt.xscale(\"log\")``` function."
   ]
  },
  {
   "cell_type": "code",
   "execution_count": null,
   "metadata": {
    "collapsed": false
   },
   "outputs": [],
   "source": [
    "#Plot the carbon data\n",
    "plt.rc(\"text\", usetex=True)\n",
    "plt.loglog(time, C)#, ls='-', marker='')\n",
    "plt.xlabel(r\"$t\\ [{\\rm yr}]$\", fontsize=24)\n",
    "plt.ylabel(r\"$N_{^{14}C}(t)\\ [{\\rm Number}]$\", fontsize=24)\n",
    "plt.xticks(fontsize=16)\n",
    "plt.yticks(fontsize=16)"
   ]
  },
  {
   "cell_type": "markdown",
   "metadata": {
    "collapsed": true
   },
   "source": [
    "# Part 5: O color where art thou?\n",
    "Color choices become important for reading plots, especially when it's the dominant feature of the figure. Let's look at what happens when we chose an awful colormap when plotting, for instance, a covarnace matrix."
   ]
  },
  {
   "cell_type": "code",
   "execution_count": null,
   "metadata": {
    "collapsed": false
   },
   "outputs": [],
   "source": [
    "np.random.seed(0)\n",
    "N = 5 #The data is 5 elements long\n",
    "C = np.random.randn(5,5)\n",
    "C += np.diag(np.random.rand(5)*10)\n",
    "plt.imshow(C, interpolation='nearest', cmap='Accent')"
   ]
  },
  {
   "cell_type": "markdown",
   "metadata": {},
   "source": [
    "Notice how in the \"Accent\" colormap (which is a version of rainbow), that it turns out green is close to 0, but then if you look at the matplotlib docs there is another green in Accent that is near 0.5. It's an awful colormap that doesn't flow logically. You can read more about color issues [here](https://eagereyes.org/basics/rainbow-color-map). Also, [this page](http://matplotlib.org/examples/color/colormaps_reference.html) helps you choose colormaps, and [this page](https://scipy-cookbook.readthedocs.io/items/Matplotlib_Show_colormaps.html) helps you create your own.\n",
    "\n",
    "Here is the plot with a better colormap, the Red-yellow-blue (RdYlBu) colormap."
   ]
  },
  {
   "cell_type": "code",
   "execution_count": null,
   "metadata": {
    "collapsed": false
   },
   "outputs": [],
   "source": [
    "np.random.seed(0)\n",
    "N = 5 #The data is 5 elements long\n",
    "C = np.random.randn(5,5)\n",
    "C += np.diag(np.random.rand(5)*10)\n",
    "plt.imshow(C, interpolation='nearest', cmap='RdYlBu')"
   ]
  },
  {
   "cell_type": "markdown",
   "metadata": {},
   "source": [
    "Some other considerations when you use colors: colormaps could be chosen intelligently according to something physical (i.e. red for high redshift), and be sensitive to the possibility of colorblind plot readers. The most common color blindnesses are Red-green and Red-blue."
   ]
  },
  {
   "cell_type": "markdown",
   "metadata": {},
   "source": [
    "# Part 6: other small things\n",
    "Some other things that I didn't think warranted their own posts: chose linewidths that are large. Choose line colors that look good on a screen (yellow is bad, neon green is bad). Use the ```zorder``` field when plotting to put important things on top of unimportant things."
   ]
  },
  {
   "cell_type": "code",
   "execution_count": null,
   "metadata": {
    "collapsed": true
   },
   "outputs": [],
   "source": []
  }
 ],
 "metadata": {
  "kernelspec": {
   "display_name": "Python 2",
   "language": "python",
   "name": "python2"
  },
  "language_info": {
   "codemirror_mode": {
    "name": "ipython",
    "version": 2
   },
   "file_extension": ".py",
   "mimetype": "text/x-python",
   "name": "python",
   "nbconvert_exporter": "python",
   "pygments_lexer": "ipython2",
   "version": "2.7.12"
  }
 },
 "nbformat": 4,
 "nbformat_minor": 0
}
